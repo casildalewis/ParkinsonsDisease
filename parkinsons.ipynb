{
 "cells": [
  {
   "cell_type": "markdown",
   "metadata": {},
   "source": [
    "Section 0 : Python Packages"
   ]
  },
  {
   "cell_type": "code",
   "execution_count": null,
   "metadata": {},
   "outputs": [],
   "source": [
    "import os                        # OS stands for Operating System and provides ways for python to interact with files or directories\r\n",
    "from collections import Counter  # Collections is a package for handling data\r\n",
    "from pprint import pprint\r\n",
    "\r\n",
    "import pandas as pd              # Pandas is a data analysis library which we'll primarily use to handle our dataset\r\n",
    "import numpy as np               # Numpy is a package for scientific computing. We'll use it for some of it's math functions\r\n",
    "\r\n",
    "import matplotlib                # Matplotlib is the plotting package that we'll use throughout the lab\r\n",
    "import matplotlib.pyplot as plt\r\n",
    "import seaborn as sns            # Seaborn is a Python data visualization library based on matplotlib"
   ]
  }
 ],
 "metadata": {
  "interpreter": {
   "hash": "ea83ce70f26183873bfb348e99a991371a17c059fdf9260d8b6ccc7264a421ef"
  },
  "kernelspec": {
   "display_name": "Python 3.9.2 64-bit",
   "name": "python3"
  },
  "language_info": {
   "name": "python",
   "version": ""
  },
  "orig_nbformat": 4
 },
 "nbformat": 4,
 "nbformat_minor": 2
}